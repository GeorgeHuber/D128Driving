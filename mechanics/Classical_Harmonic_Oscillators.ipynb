{
  "cells": [
    {
      "cell_type": "markdown",
      "metadata": {
        "id": "mTMvpjFU2j6H"
      },
      "source": [
        "# Harmonic Oscillator"
      ]
    },
    {
      "cell_type": "code",
      "execution_count": 1,
      "metadata": {
        "tags": [
          "hide-output"
        ],
        "id": "j7hZtqTs2j6J"
      },
      "outputs": [],
      "source": [
        "import numpy as np\n",
        "from scipy.integrate import odeint\n",
        "import matplotlib.pyplot as plt\n",
        "import matplotlib.patches as patches\n",
        "import matplotlib.animation as animation\n",
        "from IPython.display import HTML\n",
        "from scipy.signal import find_peaks\n"
      ]
    },
    {
      "cell_type": "code",
      "execution_count": 4,
      "metadata": {
        "tags": [
          "hide-output"
        ],
        "id": "TdigOtXR2j6K"
      },
      "outputs": [],
      "source": [
        "\n",
        "def draw_spring(x0, y0, x1, y1, coils=10, amplitude=0.1):\n",
        "    \"\"\"Draws a spring between (x0, y0) and (x1, y1).\"\"\"\n",
        "    num_points=500\n",
        "\n",
        "    dx = x1 - x0\n",
        "    dy = y1 - y0\n",
        "    length = np.sqrt(dx**2 + dy**2)\n",
        "    angle = np.arctan2(dy, dx)\n",
        "\n",
        "    x_line = np.linspace(x0, x1, num_points)\n",
        "    y_line = np.linspace(y0, y1, num_points)\n",
        "\n",
        "    coil_x = amplitude * np.cos(np.linspace(0, coils * 2 * np.pi, num_points))\n",
        "    coil_y = amplitude * np.sin(np.linspace(0, coils * 2 * np.pi, num_points))\n",
        "\n",
        "    x_spring = x_line + coil_x * np.cos(angle + np.pi/2)\n",
        "    y_spring = y_line + coil_y * np.sin(angle + np.pi/2)\n",
        "\n",
        "    return x_spring, y_spring  # Return the spring coordinates\n",
        "\n",
        "def draw_spring_system(spring_loc):\n",
        "    xs,ys=draw_spring(-2, 0,spring_loc ,0,coils=10)\n",
        "    plt.plot([-2.0,-2.0],[-0.25,0.25],color='red',linewidth=3,zorder=1)\n",
        "    plt.plot(xs,ys,color='blue',linewidth=2,zorder=0)\n",
        "    radius = 0.05\n",
        "    circle = patches.Circle((spring_loc,0), radius, color='blue', fill=True)\n",
        "    plt.gca().add_artist(circle)\n",
        "    plt.axis('equal')\n",
        "    plt.xlim(-3, 3)\n",
        "    plt.show()\n",
        "\n",
        "def animate_spring_system(x):\n",
        "    fig, ax = plt.subplots()\n",
        "    ax.plot([-2.0,-2.0],[-0.25,0.25],color='red',linewidth=3,zorder=1)\n",
        "    line, = ax.plot([], [], lw=2, color='blue',zorder=0)  # Initialize an empty line object\n",
        "\n",
        "    radius = 0.05\n",
        "    circle = patches.Circle((0,0), radius, color='blue', fill=True)\n",
        "    ax.add_artist(circle)\n",
        "    top_val=np.max(np.abs(x))*1.1\n",
        "    ax.set_xlim(-3, top_val)\n",
        "    ax.set_ylim(-1, 1)\n",
        "\n",
        "    def animate(i):\n",
        "        x1 = x[i]  # x-coordinate changes over time\n",
        "        xs, ys = draw_spring(-2, 0, x1, 0.0, coils=8, amplitude=0.10)\n",
        "        line.set_data(xs, ys)\n",
        "        circle.center = (x1,0)\n",
        "        return line,circle,\n",
        "\n",
        "    ani = animation.FuncAnimation(fig, animate, frames=len(x), blit=True, interval=20,repeat=False)\n",
        "    ###save animation as html\n",
        "    #ani.save('spring_system.html', writer='html')\n",
        "    display(HTML(ani.to_jshtml()))\n",
        "    plt.close()"
      ]
    },
    {
      "cell_type": "markdown",
      "metadata": {
        "id": "Hi1N2NMi2j6K"
      },
      "source": [
        "Our goal in this assignment is to understand the Harmonic Oscillator"
      ]
    },
    {
      "cell_type": "markdown",
      "metadata": {
        "id": "PJWQBM-I2j6K"
      },
      "source": [
        "## Exercise 1. A Single Spring"
      ]
    },
    {
      "cell_type": "markdown",
      "metadata": {
        "id": "yM4lgnZI2j6L"
      },
      "source": [
        "### a. Simple Harmonic Oscillator"
      ]
    },
    {
      "cell_type": "markdown",
      "metadata": {
        "id": "942RpVQGf6Dr"
      },
      "source": [
        "We will be working with a simple Harmonic oscillator in this part.  For the moment, we should think of this as a spring connected to a wall with a mass $m$ on the end.  We will work with the natural equilibrium length of the spring to be 2 and let the x-coordinate at the equilbrium length to be $x=0$ (so the deviation from the equilibrium and the x-coordinate match up).  To draw this spring go ahead an plot\n",
        "```\n",
        "draw_spring_system(0)\n",
        "```\n",
        "where the 0 represents that it is at $x=0$."
      ]
    },
    {
      "cell_type": "markdown",
      "metadata": {
        "id": "QsU5dNsl2j6L"
      },
      "source": [
        " <div><img src=\"https://clark.physics.illinois.edu/246img/AnsStart.svg\" width=200 align=left alt=\"Answer (start)\"></img><br></div>"
      ]
    },
    {
      "cell_type": "code",
      "execution_count": 5,
      "metadata": {
        "tags": [
          "answer-cell"
        ],
        "id": "BHwWWASg2j6L",
        "outputId": "b77b421f-9738-4b75-e444-c09121b1c0dc",
        "colab": {
          "base_uri": "https://localhost:8080/",
          "height": 430
        }
      },
      "outputs": [
        {
          "output_type": "display_data",
          "data": {
            "text/plain": [
              "<Figure size 640x480 with 1 Axes>"
            ],
            "image/png": "[encoded data removed]"
          },
          "metadata": {}
        }
      ],
      "source": [
        "### ANSWER HERE\n",
        "draw_spring_system(0)"
      ]
    },
    {
      "cell_type": "markdown",
      "metadata": {
        "id": "TyGC1kft2j6L"
      },
      "source": [
        " <div><img src=\"https://clark.physics.illinois.edu/246img/AnsEnd.svg\" width=200 align=left alt=\"Answer (start)\"></img><br></div>"
      ]
    },
    {
      "cell_type": "markdown",
      "metadata": {
        "id": "TAKPhOq62j6M"
      },
      "source": [
        "The relevant differential equation for the simple Harmonic oscillator is\n",
        "\n",
        "$$\n",
        "m \\ddot{x} = -k x\n",
        "$$\n",
        "\n",
        "again where $x$ represents the amount the spring is displaced away from its equilibrium position.  \n",
        "\n",
        "To solve this with python, it will be convenient to instead write it out as two first-order equations,\n",
        "\n",
        "$$\n",
        "\\dot{x} = v \\\\\n",
        "\\dot{v} = -\\frac{k}{m} x\n",
        "$$\n",
        "\n",
        "where $v$ is the velocity of the mass.  \n",
        "\n",
        "These equations can be directly translated into python:\n",
        "```\n",
        "def equations(state,t,k,m):\n",
        "  x,v = state\n",
        "  x_dot =v\n",
        "  v_dot = -k/m*x\n",
        "  return [x_dot,v_dot]\n",
        "```\n",
        "\n",
        "We can now get python to solve this differential equation for us.   We need to give it some initial conditions.  For example, we can stretch the spring out to $x=1$ and set the initial velocity to $v=0$ by doing\n",
        "```\n",
        "initial_state = [1, 0]\n",
        "```\n",
        "Then we need to specify which times $t$ we want to evaluate our differential equation with respect to.  Here let's choose a grid of 400 time points between 0 and $16\\pi$ as\n",
        "```\n",
        "t = np.linspace(0, 16*np.pi, 100)\n",
        "```\n",
        "\n",
        "Finally, we need to pick some values for\n",
        "```\n",
        "k=1.3\n",
        "m=2.25\n",
        "```\n",
        "\n",
        "Now we can solve our differential equation doing\n",
        "```\n",
        "sol = odeint(equations, initial_state, t, args=(k,m,))\n",
        "x = sol[:, 0]\n",
        "v= sol[:, 1]\n",
        "```\n",
        "\n",
        "Go ahead and solve this differential equation and plot it\n",
        "```\n",
        "fig, ax1 = plt.subplots()\n",
        "ax1.plot(t,x) #<-- This is the important line which plots.\n",
        "ax1.set_xlabel(\"t\")\n",
        "ax1.set_ylabel(\"x(t)\",color='b')\n",
        "ax1.tick_params('y', colors='b')  \n",
        "plt.show()\n",
        "```\n",
        "\n",
        "Notice that your wave-length $\\lambda = \\frac{2\\pi}{\\omega}$ where the natural frequency $\\omega = \\sqrt{k/m}$.\n",
        "\n",
        "\n",
        "Also go ahead and plot the velocity. You can plot it separately or if you want to plot it on the same figure so you can match the velocity and time before the `plt.show()` go ahead and do\n",
        "```\n",
        "ax2 = plt.gca().twinx()  \n",
        "ax2.plot(t, v, 'r-',alpha=0.2)  #<--- you can turn up the alpha if it's too dim but I find it annoying to have them both be strong  \n",
        "ax2.set_ylabel('v(t)', color='r')\n",
        "ax2.tick_params('y', colors='r')\n",
        "```\n"
      ]
    },
    {
      "cell_type": "markdown",
      "metadata": {
        "id": "XGlqDx1i2j6M"
      },
      "source": [
        " <div><img src=\"https://clark.physics.illinois.edu/246img/AnsStart.svg\" width=200 align=left alt=\"Answer (start)\"></img><br></div>"
      ]
    },
    {
      "cell_type": "code",
      "execution_count": 6,
      "metadata": {
        "tags": [
          "answer-cell"
        ],
        "id": "NTcfOv1F2j6M",
        "outputId": "8d5ef348-ad56-4a8f-b8dd-64622a721163",
        "colab": {
          "base_uri": "https://localhost:8080/",
          "height": 867
        }
      },
      "outputs": [
        {
          "output_type": "display_data",
          "data": {
            "text/plain": [
              "<Figure size 640x480 with 1 Axes>"
            ],
            "image/png": "[encoded data removed]"
          },
          "metadata": {}
        },
        {
          "output_type": "display_data",
          "data": {
            "text/plain": [
              "<Figure size 640x480 with 2 Axes>"
            ],
            "image/png": "[encoded data removed]"
          },
          "metadata": {}
        }
      ],
      "source": [
        "### ANSWER HERE\n",
        "def equations(state,t,k,m):\n",
        "  x,v = state\n",
        "  x_dot =v\n",
        "  v_dot = -k/m*x\n",
        "  return [x_dot,v_dot]\n",
        "\n",
        "initial_state = [1, 0]\n",
        "t = np.linspace(0, 16*np.pi, 100)\n",
        "k=1.3\n",
        "m=2.25\n",
        "\n",
        "sol = odeint(equations, initial_state, t, args=(k,m,))\n",
        "x = sol[:, 0]\n",
        "v= sol[:, 1]\n",
        "\n",
        "fig, ax1 = plt.subplots()\n",
        "ax1.plot(t,x) #<-- This is the important line which plots.\n",
        "ax1.set_xlabel(\"t\")\n",
        "ax1.set_ylabel(\"x(t)\",color='b')\n",
        "ax1.tick_params('y', colors='b')\n",
        "plt.show()\n",
        "\n",
        "ax2 = plt.gca().twinx()\n",
        "ax2.plot(t, v, 'r-',alpha=0.2)  #<--- you can turn up the alpha if it's too dim but I find it annoying to have them both be strong\n",
        "ax2.set_ylabel('v(t)', color='r')\n",
        "ax2.tick_params('y', colors='r')"
      ]
    },
    {
      "cell_type": "markdown",
      "metadata": {
        "id": "xkgqms-92j6M"
      },
      "source": [
        " <div><img src=\"https://clark.physics.illinois.edu/246img/AnsEnd.svg\" width=200 align=left alt=\"Answer (end)\"></img><br></div>"
      ]
    },
    {
      "cell_type": "markdown",
      "metadata": {
        "id": "UKrewm2W2j6M"
      },
      "source": [
        "### b.  Computing the energy"
      ]
    },
    {
      "cell_type": "markdown",
      "metadata": {
        "id": "Iso-QxVR2j6M"
      },
      "source": [
        "We would now like to compute the energy\n",
        "\n",
        "$$\n",
        "E = \\frac{1}{2}mv^2 + \\frac{1}{2}kx^2\n",
        "$$\n",
        "\n",
        "of your system and show that it is constant.  It helps if you keep your y-limit from zero to one - i.e. `ax1.set_ylim(0,1)`.\n"
      ]
    },
    {
      "cell_type": "markdown",
      "metadata": {
        "id": "FtY01_pt2j6M"
      },
      "source": [
        " <div><img src=\"https://clark.physics.illinois.edu/246img/AnsStart.svg\" width=200 align=left alt=\"Answer (start)\"></img><br></div>"
      ]
    },
    {
      "cell_type": "code",
      "execution_count": 9,
      "metadata": {
        "tags": [
          "answer-cell"
        ],
        "id": "SfjHXQYr2j6M",
        "outputId": "7fbf2d96-ec6a-43d5-ae0f-258c3ca1a2e6",
        "colab": {
          "base_uri": "https://localhost:8080/",
          "height": 473
        }
      },
      "outputs": [
        {
          "output_type": "execute_result",
          "data": {
            "text/plain": [
              "Text(0, 0.5, 'E (J)')"
            ]
          },
          "metadata": {},
          "execution_count": 9
        },
        {
          "output_type": "display_data",
          "data": {
            "text/plain": [
              "<Figure size 640x480 with 1 Axes>"
            ],
            "image/png": "[encoded data removed]"
          },
          "metadata": {}
        }
      ],
      "source": [
        "### ANSWER HERE\n",
        "x = sol[:, 0]\n",
        "v= sol[:, 1]\n",
        "\n",
        "E = 0.5*m*v**2 + 0.5*k*x**2\n",
        "\n",
        "fig, ax1 = plt.subplots()\n",
        "ax1.plot(t,E) #<-- This is the important line which plots.\n",
        "ax1.set_ylim(0,1)\n",
        "ax1.set_xlabel(\"t\")\n",
        "ax1.set_ylabel(\"E (J)\",color='g')"
      ]
    },
    {
      "cell_type": "markdown",
      "metadata": {
        "id": "4PZOjk_h2j6M"
      },
      "source": [
        " <div><img src=\"https://clark.physics.illinois.edu/246img/AnsEnd.svg\" width=200 align=left alt=\"Answer (end)\"></img><br></div>"
      ]
    },
    {
      "cell_type": "markdown",
      "metadata": {
        "id": "ALCO0HIf2j6M"
      },
      "source": [
        "### c. Animating your spring"
      ]
    },
    {
      "cell_type": "markdown",
      "metadata": {
        "id": "60XjTixZ2j6N"
      },
      "source": [
        "We now want to animate your spring.  You can do this by calling\n",
        "```\n",
        "animate_spring_system(x)\n",
        "```\n",
        "\n",
        "on your x-coordinate."
      ]
    },
    {
      "cell_type": "markdown",
      "metadata": {
        "id": "U6haKsGJ2j6N"
      },
      "source": [
        " <div><img src=\"https://clark.physics.illinois.edu/246img/AnsStart.svg\" width=200 align=left alt=\"Answer (end)\"></img><br></div>"
      ]
    },
    {
      "cell_type": "code",
      "execution_count": null,
      "metadata": {
        "tags": [
          "answer-cell"
        ],
        "id": "jJ6AiOUd2j6N"
      },
      "outputs": [],
      "source": [
        "### ANSWER HERE"
      ]
    },
    {
      "cell_type": "markdown",
      "metadata": {
        "id": "oSMcLeIS2j6N"
      },
      "source": [
        " <div><img src=\"https://clark.physics.illinois.edu/246img/AnsEnd.svg\" width=200 align=left alt=\"Answer (end)\"></img><br></div>"
      ]
    },
    {
      "cell_type": "markdown",
      "metadata": {
        "id": "asQdZ6yf2j6N"
      },
      "source": [
        "### d.  A (under) damped Harmonic Oscillator"
      ]
    },
    {
      "cell_type": "markdown",
      "metadata": {
        "id": "WbNY9HeG2j6N"
      },
      "source": [
        "Now let's go ahead and introduce some damping.  The equation of motion for a damped harmonic oscillator is\n",
        "\n",
        "$$\n",
        "m \\ddot{x} = -k x - c v\n",
        "$$\n",
        "\n",
        "Rewrite this out as a series of first-order differential equations and then modify your `equations(state,t,x,k,m,c)` function to solve this differential equation using the same starting conditions and values for $k$ amd $m$ as earlier. Start by using $c=0.2$.   Recall that the dissipation $\\gamma=c/(2m\\omega)$.  Since $\\gamma<1$ this is the underdamped case.  \n",
        "\n",
        "Plot the position and velocity as a function of time.  Also animate your spring.  "
      ]
    },
    {
      "cell_type": "markdown",
      "metadata": {
        "id": "w2kEbvnB2j6N"
      },
      "source": [
        " <div><img src=\"https://clark.physics.illinois.edu/246img/AnsStart.svg\" width=200 align=left alt=\"Answer (end)\"></img><br></div>"
      ]
    },
    {
      "cell_type": "code",
      "execution_count": null,
      "metadata": {
        "tags": [
          "answer-cell"
        ],
        "id": "8g53YHXm2j6N"
      },
      "outputs": [],
      "source": [
        "### ANSWER HERE"
      ]
    },
    {
      "cell_type": "markdown",
      "metadata": {
        "id": "uvoYTAI32j6N"
      },
      "source": [
        " <div><img src=\"https://clark.physics.illinois.edu/246img/AnsEnd.svg\" width=200 align=left alt=\"Answer (end)\"></img><br></div>"
      ]
    },
    {
      "cell_type": "markdown",
      "metadata": {
        "id": "ryTWPWkh2j6N"
      },
      "source": [
        "We would like to now check two things explicitly about the damped oscillator:\n",
        "\n",
        "We expect that the wave-length of the damped oscillator should be $2\\pi/\\omega_d$ where $\\omega_d \\equiv \\omega_n \\sqrt{1-\\gamma^2}$.  How much different is this from the natural frequency.   Verify this by extracting the peak locations of the undamped oscillator.  To do this we can use `my_peaks=find_peaks(x)[0].tolist()` and then use `t[my_peaks]` to get the time of the respective peaks.  Check that those times are all equidistance and that they happen at the prescribed wave-length.  The answer you will actually get if you do this will be reasonable but not super-accurate.  You can do better by (a) increasing the number of points in your `linspace` to 4000 (but don't rerun the animation becuase it will be very slow) and/or instead of using the difference in time between two peaks computing the slope `np.polyfit(range(0,len(peaks)),t[peaks],1)` and getting the slope.  \n",
        "\n",
        " Verify that the damped oscillator's strength decays exponentially.  We can do this by looking at the peak values (`x[my_peaks]`) and plot them.  To tell that something decreases exponentially, you should plot it on a semi-log scale (`ax1.set_yscale('log')`) and see that the plot is linear."
      ]
    },
    {
      "cell_type": "markdown",
      "metadata": {
        "id": "F7oE-dJ52j6N"
      },
      "source": [
        " <div><img src=\"https://clark.physics.illinois.edu/246img/AnsStart.svg\" width=200 align=left alt=\"Answer (end)\"></img><br></div>"
      ]
    },
    {
      "cell_type": "code",
      "execution_count": null,
      "metadata": {
        "tags": [
          "answer-cell"
        ],
        "id": "e2uTPz-U2j6N"
      },
      "outputs": [],
      "source": [
        "### ANSWER HERE"
      ]
    },
    {
      "cell_type": "markdown",
      "metadata": {
        "id": "Cyt9ZTY62j6N"
      },
      "source": [
        " <div><img src=\"https://clark.physics.illinois.edu/246img/AnsEnd.svg\" width=200 align=left alt=\"Answer (end)\"></img><br></div>"
      ]
    },
    {
      "cell_type": "markdown",
      "metadata": {
        "id": "PMIDy2qM2j6N"
      },
      "source": [
        "### e.  An overdamped oscillator"
      ]
    },
    {
      "cell_type": "markdown",
      "metadata": {
        "id": "2qYqxPzy2j6N"
      },
      "source": [
        "Let's do the same thing but this time choose a value of $c$ where $\\gamma >1$ and hence it is overdamped. Then consider some value where $\\gamma \\gg 1$.  For both scenarios plot the position and velocity vs time and animate them."
      ]
    },
    {
      "cell_type": "markdown",
      "metadata": {
        "id": "-vUIam1S2j6N"
      },
      "source": [
        " <div><img src=\"https://clark.physics.illinois.edu/246img/AnsStart.svg\" width=200 align=left alt=\"Answer (end)\"></img><br></div>"
      ]
    },
    {
      "cell_type": "code",
      "execution_count": null,
      "metadata": {
        "tags": [
          "answer-cell"
        ],
        "id": "W31nUTm12j6N"
      },
      "outputs": [],
      "source": [
        "### ANSWER HERE"
      ]
    },
    {
      "cell_type": "code",
      "execution_count": null,
      "metadata": {
        "tags": [
          "answer-cell"
        ],
        "id": "5tLSPmUv2j6O"
      },
      "outputs": [],
      "source": [
        "### ANSWER HERE"
      ]
    },
    {
      "cell_type": "markdown",
      "metadata": {
        "id": "SZHhqJZ92j6O"
      },
      "source": [
        " <div><img src=\"https://clark.physics.illinois.edu/246img/AnsEnd.svg\" width=200 align=left alt=\"Answer (end)\"></img><br></div>"
      ]
    },
    {
      "cell_type": "markdown",
      "metadata": {
        "id": "H_mR0VXj2j6Z"
      },
      "source": [
        "### e. Gravity"
      ]
    },
    {
      "cell_type": "markdown",
      "metadata": {
        "id": "4G3Cp7gG2j6Z"
      },
      "source": [
        "We would now like you to modify your equations of motion to include both the force from gravity and a dissapation term.  By running your simulation, compute the equilibrium value for masses `masses=[1.0,2.0,3.0,4.0]`.  Then plot the equilibrium spring location versus the mass and show that the equilbrium position is linear with the mass.  How could you then use this information as a scale?\n"
      ]
    },
    {
      "cell_type": "markdown",
      "metadata": {
        "id": "4WzX3L7w2j6Z"
      },
      "source": [
        " <div><img src=\"https://clark.physics.illinois.edu/246img/AnsStart.svg\" width=200 align=left alt=\"Answer (end)\"></img><br></div>"
      ]
    },
    {
      "cell_type": "code",
      "execution_count": null,
      "metadata": {
        "tags": [
          "answer-cell"
        ],
        "id": "Qo56fod12j6Z"
      },
      "outputs": [],
      "source": [
        "### ANSWER HERE"
      ]
    },
    {
      "cell_type": "markdown",
      "metadata": {
        "id": "qJ67KmIh2j6Z"
      },
      "source": [
        " <div><img src=\"https://clark.physics.illinois.edu/246img/AnsEnd.svg\" width=200 align=left alt=\"Answer (end)\"></img><br></div>"
      ]
    }
  ],
  "metadata": {
    "colab": {
      "provenance": []
    },
    "kernelspec": {
      "display_name": "Python 3",
      "name": "python3"
    },
    "language_info": {
      "codemirror_mode": {
        "name": "ipython",
        "version": 3
      },
      "file_extension": ".py",
      "mimetype": "text/x-python",
      "name": "python",
      "nbconvert_exporter": "python",
      "pygments_lexer": "ipython3",
      "version": "3.9.6"
    }
  },
  "nbformat": 4,
  "nbformat_minor": 0
}